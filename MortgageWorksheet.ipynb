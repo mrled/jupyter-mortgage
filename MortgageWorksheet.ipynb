{
 "cells": [
  {
   "cell_type": "markdown",
   "metadata": {},
   "source": [
    "# Rental investment property worksheet\n",
    "\n",
    "Crunch numbers about potential real estate investments\n",
    "\n",
    "## First-time introduction\n",
    "\n",
    "To use this notebook, you must _run_ code in each of its _cells_. Simply select \"Run All\" in the \"Cell\" menu above, wait a moment, and crunch your numbers.\n",
    "\n",
    "## Use this notebook online\n",
    "\n",
    "If you are viewing this in a static notebook frontend, such as on GitHub, there won't be much to see. Unfortunately, this notebook is only useful when it's actually being run inside Jupyter.\n",
    "\n",
    "However, you can use <https://mybinder.org> to run the notebook online. This does run it inside a real Jupyter instance, allowing full interactive use and even writing and running code in new Python cells.\n",
    "\n",
    "[![Binder](https://mybinder.org/badge.svg)](https://mybinder.org/v2/gh/mrled/jupyter-mortgage/master?filepath=MortgageWorksheet.ipynb)\n",
    "\n",
    "---"
   ]
  },
  {
   "cell_type": "code",
   "execution_count": 1,
   "metadata": {},
   "outputs": [],
   "source": [
    "import logging.config\n",
    "import os\n",
    "\n",
    "import bloodloan.ui.ui as ui\n",
    "\n",
    "# The directory where this Jupyter notebook is found\n",
    "# NOTE: os.getcwd() is not portable in Jupyter notebooks\n",
    "# <https://github.com/ipython/ipython/issues/10123>\n",
    "# If necessary, hard-code this path\n",
    "notebookdir = os.getcwd()\n",
    "\n",
    "# Configure logging to a file\n",
    "logging.config.dictConfig(ui.getlogconfig(notebookdir, level='DEBUG'))"
   ]
  },
  {
   "cell_type": "code",
   "execution_count": 2,
   "metadata": {
    "scrolled": false
   },
   "outputs": [
    {
     "data": {
      "text/html": [
       "\n",
       "        <script>\n",
       "        IPython.OutputArea.prototype._should_scroll = function(lines) {\n",
       "            return false;\n",
       "        }\n",
       "        </script>\n",
       "        "
      ],
      "text/plain": [
       "<IPython.core.display.HTML object>"
      ]
     },
     "metadata": {},
     "output_type": "display_data"
    },
    {
     "data": {
      "text/html": [
       "<h2>Parameters</h2>\n",
       "\n",
       "<p>Hopefully most of the controls below are self-explanatory. Some notes:</p>\n",
       "<ul>\n",
       "    <li>Enter the best address you can, including city, state, and zip code, to limit a bunch of irrelevant results in other locations</li>\n",
       "    <li>\n",
       "        If you have a Goole Maps API key\n",
       "        (<a href=\"https://console.developers.google.com/flows/enableapi?apiid=maps_backend,geocoding_backend,directions_backend,distance_matrix_backend,elevation_backend&keyType=CLIENT_SIDE&reusekey=true\">create one here</a>)\n",
       "        we will use Google maps;\n",
       "        if not, we use OpenStreetMaps\n",
       "    </li>\n",
       "    <li>\n",
       "        Currently, the notebook only knows how to calculate closing costs for one type of mortgage;\n",
       "        more are forthcoming\n",
       "    </li>\n",
       "</ul>\n"
      ],
      "text/plain": [
       "<IPython.core.display.HTML object>"
      ]
     },
     "metadata": {},
     "output_type": "display_data"
    },
    {
     "name": "stderr",
     "output_type": "stream",
     "text": [
      "/Users/mrled/Documents/Repositories/jupyter-mortgage/bloodloan/mortgage/costconfig.py:288: YAMLLoadWarning: calling yaml.load() without Loader=... is deprecated, as the default Loader is unsafe. Please read https://msg.pyyaml.org/load for full details.\n",
      "  contents = yaml.load(cfile)\n",
      "/Users/mrled/Documents/Repositories/jupyter-mortgage/bloodloan/ui/parameters.py:69: YAMLLoadWarning: calling yaml.load() without Loader=... is deprecated, as the default Loader is unsafe. Please read https://msg.pyyaml.org/load for full details.\n",
      "  persisted = yaml.load(ppfile)\n"
     ]
    }
   ],
   "source": [
    "# Start the UI\n",
    "ui.disablecellscroll()\n",
    "ui.main(notebookdir)"
   ]
  },
  {
   "cell_type": "code",
   "execution_count": 3,
   "metadata": {},
   "outputs": [],
   "source": [
    "ui.toggleinputcells()"
   ]
  },
  {
   "cell_type": "code",
   "execution_count": null,
   "metadata": {},
   "outputs": [],
   "source": []
  }
 ],
 "metadata": {
  "kernelspec": {
   "display_name": "Python 3",
   "language": "python",
   "name": "python3"
  },
  "language_info": {
   "codemirror_mode": {
    "name": "ipython",
    "version": 3
   },
   "file_extension": ".py",
   "mimetype": "text/x-python",
   "name": "python",
   "nbconvert_exporter": "python",
   "pygments_lexer": "ipython3",
   "version": "3.9.2"
  }
 },
 "nbformat": 4,
 "nbformat_minor": 2
}
